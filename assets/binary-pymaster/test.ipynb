{
 "cells": [
  {
   "cell_type": "code",
   "execution_count": 1,
   "metadata": {},
   "outputs": [],
   "source": [
    "import pyz_random\n",
    "import base64"
   ]
  },
  {
   "cell_type": "code",
   "execution_count": 2,
   "metadata": {},
   "outputs": [
    {
     "name": "stdout",
     "output_type": "stream",
     "text": [
      "54830\n"
     ]
    }
   ],
   "source": [
    "n0 = pyz_random.randint(0, 65535)\n",
    "print(n0)"
   ]
  },
  {
   "cell_type": "code",
   "execution_count": 3,
   "metadata": {},
   "outputs": [],
   "source": [
    "class adJGrTXOYN:\n",
    "    def __init__(adJGrTXOYP, OOOO, OOO0):\n",
    "        adJGrTXOYP.OOOO = OOOO\n",
    "        adJGrTXOYP.OOO0 = OOO0\n",
    "        adJGrTXOYP.OO0O = None\n",
    "        adJGrTXOYP.O0OO = None\n",
    "        adJGrTXOYP.O0O0 = None\n",
    "\n",
    "\n",
    "class adJGrTXOYb:\n",
    "    def __init__(adJGrTXOYP):\n",
    "        adJGrTXOYP.IIII = None\n",
    "\n",
    "    def adJGrTXOYb(adJGrTXOYP, adJGrTXOYo):\n",
    "        while adJGrTXOYo.OO0O != None:\n",
    "            if adJGrTXOYo.OO0O.OO0O == None:\n",
    "                if adJGrTXOYo == adJGrTXOYo.OO0O.O0OO:\n",
    "                    adJGrTXOYP.adJGrTXOYn(adJGrTXOYo.OO0O)\n",
    "                else:\n",
    "                    adJGrTXOYP.adJGrTXOYV(adJGrTXOYo.OO0O)\n",
    "            elif (\n",
    "                adJGrTXOYo == adJGrTXOYo.OO0O.O0OO\n",
    "                and adJGrTXOYo.OO0O == adJGrTXOYo.OO0O.OO0O.O0OO\n",
    "            ):\n",
    "                adJGrTXOYP.adJGrTXOYn(adJGrTXOYo.OO0O.OO0O)\n",
    "                adJGrTXOYP.adJGrTXOYn(adJGrTXOYo.OO0O)\n",
    "            elif (\n",
    "                adJGrTXOYo == adJGrTXOYo.OO0O.O0O0\n",
    "                and adJGrTXOYo.OO0O == adJGrTXOYo.OO0O.OO0O.O0O0\n",
    "            ):\n",
    "                adJGrTXOYP.adJGrTXOYV(adJGrTXOYo.OO0O.OO0O)\n",
    "                adJGrTXOYP.adJGrTXOYV(adJGrTXOYo.OO0O)\n",
    "            elif (\n",
    "                adJGrTXOYo == adJGrTXOYo.OO0O.O0O0\n",
    "                and adJGrTXOYo.OO0O == adJGrTXOYo.OO0O.OO0O.O0OO\n",
    "            ):\n",
    "                adJGrTXOYP.adJGrTXOYV(adJGrTXOYo.OO0O)\n",
    "                adJGrTXOYP.adJGrTXOYn(adJGrTXOYo.OO0O)\n",
    "            else:\n",
    "                adJGrTXOYP.adJGrTXOYn(adJGrTXOYo.OO0O)\n",
    "                adJGrTXOYP.adJGrTXOYV(adJGrTXOYo.OO0O)\n",
    "\n",
    "    def adJGrTXOYV(adJGrTXOYP, x):\n",
    "        y = x.O0O0\n",
    "        x.O0O0 = y.O0OO\n",
    "        if y.O0OO != None:\n",
    "            y.O0OO.OO0O = x\n",
    "        y.OO0O = x.OO0O\n",
    "        if x.OO0O == None:\n",
    "            adJGrTXOYP.IIII = y\n",
    "        elif x == x.OO0O.O0OO:\n",
    "            x.OO0O.O0OO = y\n",
    "        else:\n",
    "            x.OO0O.O0O0 = y\n",
    "        y.O0OO = x\n",
    "        x.OO0O = y\n",
    "\n",
    "    def adJGrTXOYn(adJGrTXOYP, x):\n",
    "        y = x.O0OO\n",
    "        x.O0OO = y.O0O0\n",
    "        if y.O0O0 != None:\n",
    "            y.O0O0.OO0O = x\n",
    "        y.OO0O = x.OO0O\n",
    "        if x.OO0O == None:\n",
    "            adJGrTXOYP.IIII = y\n",
    "        elif x == x.OO0O.O0O0:\n",
    "            x.OO0O.O0O0 = y\n",
    "        else:\n",
    "            x.OO0O.O0OO = y\n",
    "        y.O0O0 = x\n",
    "        x.OO0O = y\n",
    "\n",
    "    def adJGrTXOYx(adJGrTXOYP, OOOO, OOO0):\n",
    "        adJGrTXOYo = adJGrTXOYN(OOOO, OOO0)\n",
    "        adJGrTXOYu = adJGrTXOYP.IIII\n",
    "        OO0O = None\n",
    "        while adJGrTXOYu != None:\n",
    "            OO0O = adJGrTXOYu\n",
    "            if OOOO < adJGrTXOYu.OOOO:\n",
    "                adJGrTXOYu = adJGrTXOYu.O0OO\n",
    "            else:\n",
    "                adJGrTXOYu = adJGrTXOYu.O0O0\n",
    "        adJGrTXOYo.OO0O = OO0O\n",
    "        if OO0O == None:\n",
    "            adJGrTXOYP.IIII = adJGrTXOYo\n",
    "        elif OOOO < OO0O.OOOO:\n",
    "            OO0O.O0OO = adJGrTXOYo\n",
    "        else:\n",
    "            OO0O.O0O0 = adJGrTXOYo\n",
    "        adJGrTXOYP.adJGrTXOYb(adJGrTXOYo)\n",
    "\n",
    "\n",
    "def adJGrTXOYQ(adJGrTXOYo):\n",
    "    s = []\n",
    "    r = []\n",
    "    if adJGrTXOYo != None:\n",
    "        s += [adJGrTXOYo.OOO0]\n",
    "        r += [pyz_random.randint(0, 0xFF)]\n",
    "        s1, r1 = adJGrTXOYQ(adJGrTXOYo.O0OO)\n",
    "        s2, r2 = adJGrTXOYQ(adJGrTXOYo.O0O0)\n",
    "        s += s1\n",
    "        r += r1\n",
    "        s += s2\n",
    "        r += r2\n",
    "    return s, r\n",
    "\n",
    "\n",
    "def adJGrTXOYy(adJGrTXOYj):\n",
    "    adJGrTXOYu = adJGrTXOYj.IIII\n",
    "    OO0O = None\n",
    "    while adJGrTXOYu != None:\n",
    "        OO0O = adJGrTXOYu\n",
    "        if pyz_random.randint(0, 1) == 0:\n",
    "            adJGrTXOYu = adJGrTXOYu.O0OO\n",
    "        else:\n",
    "            adJGrTXOYu = adJGrTXOYu.O0O0\n",
    "    adJGrTXOYj.adJGrTXOYb(OO0O)"
   ]
  },
  {
   "cell_type": "code",
   "execution_count": 4,
   "metadata": {},
   "outputs": [
    {
     "name": "stdout",
     "output_type": "stream",
     "text": [
      "range(0, 36)\n"
     ]
    }
   ],
   "source": [
    "t0 = range(0, 36)\n",
    "print(t0)"
   ]
  },
  {
   "cell_type": "code",
   "execution_count": 5,
   "metadata": {},
   "outputs": [
    {
     "name": "stdout",
     "output_type": "stream",
     "text": [
      "[12, 10, 1, 23, 14, 5, 34, 4, 31, 18, 25, 29, 28, 7, 16, 6, 3, 27, 33, 32, 35, 21, 30, 8, 22, 26, 24, 0, 2, 9, 13, 17, 19, 15, 11, 20]\n",
      "[179, 53, 73, 49, 241, 145, 99, 187, 191, 119, 180, 85, 74, 167, 252, 41, 74, 102, 45, 250, 124, 181, 199, 119, 163, 121, 38, 242, 58, 177, 50, 225, 100, 7, 139, 229]\n"
     ]
    }
   ],
   "source": [
    "adJGrTXOYj = adJGrTXOYb()\n",
    "for t in t0:\n",
    "    adJGrTXOYj.adJGrTXOYx(pyz_random.random(), t)\n",
    "    \n",
    "for _ in range(0x100):\n",
    "    adJGrTXOYy(adJGrTXOYj)\n",
    "\n",
    "adJGrTXOYi, r = adJGrTXOYQ(adJGrTXOYj.IIII)\n",
    "print(adJGrTXOYi)\n",
    "print(r)"
   ]
  },
  {
   "cell_type": "code",
   "execution_count": 8,
   "metadata": {},
   "outputs": [
    {
     "name": "stdout",
     "output_type": "stream",
     "text": [
      "[95, 114, 108, 116, 114, 89, 89, 123, 80, 89, 82, 95, 70, 85, 51, 79, 103, 111, 65, 76, 125, 64, 115, 95, 83, 95, 101, 102, 97, 65, 55, 108, 95, 117, 69, 109]\n",
      "b'_rltrYY{PYR_FU3OgoAL}@s_S_efaA7l_uEm'\n"
     ]
    }
   ],
   "source": [
    "s0 = base64.b64decode(\"7EclRYPIOsDvLuYKDPLPZi0JbLYB9bQo8CZDlFvwBY07cs6I\")\n",
    "s1 = [s ^ rr for s, rr in zip(s0, r)]\n",
    "print(s1)\n",
    "print(bytes(s1))"
   ]
  },
  {
   "cell_type": "code",
   "execution_count": 9,
   "metadata": {},
   "outputs": [
    {
     "name": "stdout",
     "output_type": "stream",
     "text": [
      "[102, 108, 97, 103, 123, 89, 79, 85, 95, 65, 114, 69, 95, 55, 114, 117, 51, 108, 89, 95, 109, 64, 83, 116, 101, 82, 95, 111, 70, 95, 115, 80, 76, 65, 89, 125]\n",
      "b'flag{YOU_ArE_7ru3lY_m@SteR_oF_sPLAY}'\n"
     ]
    }
   ],
   "source": [
    "s2 = [0] * len(s1)\n",
    "for i, j in enumerate(adJGrTXOYi):\n",
    "    s2[j] = s1[i]\n",
    "print(s2)\n",
    "print(bytes(s2))"
   ]
  }
 ],
 "metadata": {
  "kernelspec": {
   "display_name": ".venv",
   "language": "python",
   "name": "python3"
  },
  "language_info": {
   "codemirror_mode": {
    "name": "ipython",
    "version": 3
   },
   "file_extension": ".py",
   "mimetype": "text/x-python",
   "name": "python",
   "nbconvert_exporter": "python",
   "pygments_lexer": "ipython3",
   "version": "3.8.19"
  }
 },
 "nbformat": 4,
 "nbformat_minor": 2
}
